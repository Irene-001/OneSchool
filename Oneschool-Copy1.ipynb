{
 "cells": [
  {
   "cell_type": "code",
   "execution_count": 1,
   "id": "c1a0f5b9",
   "metadata": {},
   "outputs": [],
   "source": [
    "import numpy as np\n",
    "import pandas as pd\n"
   ]
  },
  {
   "cell_type": "code",
   "execution_count": 5,
   "id": "17a379dd",
   "metadata": {},
   "outputs": [],
   "source": [
    "df = pd.read_csv(\"C:\\\\Users\\\\user\\\\Downloads\\\\FoodBalanceSheets_E_Africa_NOFLAG.csv\", encoding=\"latin-1\")"
   ]
  },
  {
   "cell_type": "markdown",
   "id": "65ec6883",
   "metadata": {},
   "source": [
    "Question 1.\n",
    "What is the total number of unique countries in the dataset?"
   ]
  },
  {
   "cell_type": "code",
   "execution_count": 6,
   "id": "92099eea",
   "metadata": {},
   "outputs": [
    {
     "name": "stdout",
     "output_type": "stream",
     "text": [
      "Total number of unique countries: 49\n"
     ]
    }
   ],
   "source": [
    "total_unique_countries = df['Area'].nunique()\n",
    "\n",
    "print(\"Total number of unique countries:\", total_unique_countries)\n"
   ]
  },
  {
   "cell_type": "markdown",
   "id": "d42313df",
   "metadata": {},
   "source": [
    "Question 2\n",
    "What is the total number and percentage of missing data in 2014 to 3 decimal places?"
   ]
  },
  {
   "cell_type": "code",
   "execution_count": 7,
   "id": "602c67ee",
   "metadata": {},
   "outputs": [
    {
     "name": "stdout",
     "output_type": "stream",
     "text": [
      "Total number of missing values in 2014: 1589\n",
      "Percentage of missing data in 2014 (to 3 decimal places): 2.607%\n"
     ]
    }
   ],
   "source": [
    "# Step 1: Filter the DataFrame to select only the rows with Year equal to 2014\n",
    "data_2014 = df['Y2014']\n",
    "\n",
    "# Step 2: Calculate the total number of missing values for each column in the 2014 data\n",
    "missing_data_2014 = data_2014.isnull().sum()\n",
    "\n",
    "# Step 3: Calculate the total number of missing values across all columns in 2014\n",
    "total_missing_2014 = missing_data_2014.sum()\n",
    "\n",
    "# Step 4: Calculate the total number of values in the 2014 data\n",
    "total_values_2014 = data_2014.size\n",
    "\n",
    "# Step 5: Calculate the percentage of missing data in 2014 to 3 decimal places\n",
    "percentage_missing_2014 = (total_missing_2014 / total_values_2014) * 100\n",
    "\n",
    "# Print the results\n",
    "print(\"Total number of missing values in 2014:\", total_missing_2014)\n",
    "print(\"Percentage of missing data in 2014 (to 3 decimal places): {:.3f}%\".format(percentage_missing_2014))\n"
   ]
  },
  {
   "cell_type": "markdown",
   "id": "0b6bde61",
   "metadata": {},
   "source": [
    "Question 3. Select columns ‘Y2017’ and ‘Area’, Perform a groupby operation on ‘Area’.  Which of these Areas had the highest sum in 2017?"
   ]
  },
  {
   "cell_type": "code",
   "execution_count": 8,
   "id": "bb4190b2",
   "metadata": {},
   "outputs": [
    {
     "name": "stdout",
     "output_type": "stream",
     "text": [
      "Area with the highest sum in 2017: Nigeria\n",
      "The highest sum in 2017 for that area: 1483268.23\n"
     ]
    }
   ],
   "source": [
    "# Step 1: Select the 'Y2017' and 'Area' columns\n",
    "selected_columns = df[['Y2017', 'Area']]\n",
    "\n",
    "# Step 2: Group the data by the 'Area' column and calculate the sum for 'Y2017' within each group\n",
    "grouped_data = selected_columns.groupby('Area')['Y2017'].sum()\n",
    "\n",
    "# Step 3: Find the area with the highest sum in 2017\n",
    "area_with_highest_sum = grouped_data.idxmax()\n",
    "highest_sum_value = grouped_data.max()\n",
    "\n",
    "# Print the result\n",
    "print(\"Area with the highest sum in 2017:\", area_with_highest_sum)\n",
    "print(\"The highest sum in 2017 for that area:\", highest_sum_value)\n"
   ]
  },
  {
   "cell_type": "markdown",
   "id": "f0a7c9cc",
   "metadata": {},
   "source": [
    "Question 4\n",
    "What would be the output for?\n",
    "\n",
    "S = [['him', 'sell'], [90, 28, 43]]\n",
    "\n",
    "S[0][1][1]"
   ]
  },
  {
   "cell_type": "code",
   "execution_count": 9,
   "id": "a68eb079",
   "metadata": {},
   "outputs": [
    {
     "data": {
      "text/plain": [
       "'e'"
      ]
     },
     "execution_count": 9,
     "metadata": {},
     "output_type": "execute_result"
    }
   ],
   "source": [
    "S = [['him', 'sell'], [90, 28, 43]]\n",
    "\n",
    "S[0][1][1]"
   ]
  },
  {
   "cell_type": "markdown",
   "id": "707c7cb7",
   "metadata": {},
   "source": [
    "Question 5.\n",
    "What is the total Protein supply quantity in Madagascar in 2015?"
   ]
  },
  {
   "cell_type": "code",
   "execution_count": 21,
   "id": "b50b0ae5",
   "metadata": {},
   "outputs": [
    {
     "name": "stdout",
     "output_type": "stream",
     "text": [
      "Total Protein supply quantity in Madagascar in 2015: 30715    False\n",
      "30717    False\n",
      "30718    False\n",
      "30719    False\n",
      "30720    False\n",
      "         ...  \n",
      "32147    False\n",
      "32149    False\n",
      "32150    False\n",
      "32152    False\n",
      "32153    False\n",
      "Name: Element, Length: 783, dtype: bool\n"
     ]
    }
   ],
   "source": [
    "# Step 1: Filter the DataFrame to select rows where 'Country' is Madagascar and 'Year' is 2015\n",
    "madagascar_2015_data = df[(df['Area'] == 'Madagascar') & (df['Y2015'])]\n",
    "\n",
    "# Step 2: Calculate the total protein supply quantity for Madagascar in 2015\n",
    "total_protein_supply_2015 = madagascar_2015_data['Element'] == 'Protein supply quantity'\n",
    "\n",
    "# Print the result\n",
    "print(\"Total Protein supply quantity in Madagascar in 2015:\", total_protein_supply_2015)\n"
   ]
  },
  {
   "cell_type": "markdown",
   "id": "c0c56d0a",
   "metadata": {},
   "source": [
    "Question 6\n",
    "If you have the following list\n",
    "\n",
    "lst = [[35, 'Portugal', 94], [33, 'Argentina', 93], [30 , 'Brazil', 92]]\n",
    "\n",
    "col = [‘Age’,’Nationality’,’Overall’]\n",
    "\n",
    "How do you create a pandas DataFrame using this list, to look like the table below?"
   ]
  },
  {
   "cell_type": "code",
   "execution_count": 22,
   "id": "5dd3e4f5",
   "metadata": {},
   "outputs": [
    {
     "name": "stdout",
     "output_type": "stream",
     "text": [
      "   Age Nationality  Overall\n",
      "0   35    Portugal       94\n",
      "1   33   Argentina       93\n",
      "2   30      Brazil       92\n"
     ]
    }
   ],
   "source": [
    "# Given list\n",
    "lst = [[35, 'Portugal', 94], [33, 'Argentina', 93], [30, 'Brazil', 92]]\n",
    "\n",
    "# Column names\n",
    "col = ['Age', 'Nationality', 'Overall']\n",
    "\n",
    "# Create a DataFrame\n",
    "Df = pd.DataFrame(lst, columns=col)\n",
    "\n",
    "# Display the DataFrame\n",
    "print(Df)\n"
   ]
  },
  {
   "cell_type": "markdown",
   "id": "2470ce1e",
   "metadata": {},
   "source": [
    "Question 7\n",
    "Which of the following dataframe methods can be used to access elements across rows and columns?"
   ]
  },
  {
   "cell_type": "markdown",
   "id": "419e3a17",
   "metadata": {},
   "source": [
    "Question 8\n",
    "Answer the following questions based on the African food production dataset provided by the FAO website already provided\n",
    "\n",
    "What is the total sum of Wine produced in 2015 and 2018 respectively?\n",
    "\n",
    "Hint:\n",
    "\n",
    "Perform a groupby sum aggregation on ‘Item’"
   ]
  },
  {
   "cell_type": "code",
   "execution_count": 24,
   "id": "98146b8e",
   "metadata": {},
   "outputs": [
    {
     "name": "stdout",
     "output_type": "stream",
     "text": [
      "Total Wine produced in 2015: 8032340.23\n",
      "Total Wine produced in 2018: 8554629.96\n"
     ]
    }
   ],
   "source": [
    "# Step 1: Perform a groupby sum aggregation on 'Item' for columns Y2015 and Y2018\n",
    "wine_production_by_year = df.groupby('Item')[['Y2015', 'Y2018']].sum().reset_index()\n",
    "\n",
    "# Step 2: Calculate the total sum of wine produced in 2015 and 2018\n",
    "wine_2015_sum = wine_production_by_year['Y2015'].sum()\n",
    "wine_2018_sum = wine_production_by_year['Y2018'].sum()\n",
    "\n",
    "# Print the results\n",
    "print(\"Total Wine produced in 2015:\", wine_2015_sum)\n",
    "print(\"Total Wine produced in 2018:\", wine_2018_sum)\n"
   ]
  },
  {
   "cell_type": "markdown",
   "id": "5cf65862",
   "metadata": {},
   "source": [
    "Question 9\n",
    "What is the mean and standard deviation across the whole dataset for the year 2017 to 2 decimal places?"
   ]
  },
  {
   "cell_type": "code",
   "execution_count": 30,
   "id": "869e7534",
   "metadata": {},
   "outputs": [
    {
     "name": "stdout",
     "output_type": "stream",
     "text": [
      "Mean for the year 2017: 140.92\n",
      "Standard Deviation for the year 2017: 1671.86\n"
     ]
    }
   ],
   "source": [
    "import pandas as pd\n",
    "\n",
    "# Assuming df is your DataFrame\n",
    "\n",
    "# Step 1: Select the columns for the year 2017\n",
    "columns_2017 = [col for col in df.columns if col.startswith('Y2017')]\n",
    "\n",
    "# Step 2: Filter the DataFrame for the year 2017\n",
    "df_2017 = df[columns_2017]\n",
    "\n",
    "# Step 3: Calculate the mean and standard deviation for the year 2017\n",
    "mean_2017 = df_2017.mean().mean()  # Calculate the mean twice to get a single mean value\n",
    "std_deviation_2017 = df_2017.stack().std()  # Use .stack() to convert DataFrame to Series and calculate std deviation\n",
    "\n",
    "# Print the results to 2 decimal places\n",
    "print(\"Mean for the year 2017:\", round(mean_2017, 2))\n",
    "print(\"Standard Deviation for the year 2017:\", round(std_deviation_2017, 2))\n"
   ]
  },
  {
   "cell_type": "markdown",
   "id": "1be232c6",
   "metadata": {},
   "source": [
    "Question 10\n",
    "Which year had the least correlation with ‘Element Code’?"
   ]
  },
  {
   "cell_type": "code",
   "execution_count": 31,
   "id": "bbddeb8b",
   "metadata": {},
   "outputs": [
    {
     "name": "stdout",
     "output_type": "stream",
     "text": [
      "Year with the least correlation with 'Element Code': Y2016\n",
      "Correlation value: 0.023443997584961428\n"
     ]
    }
   ],
   "source": [
    "# Step 1: Select the 'Element Code' column and the year columns (assuming they start with 'Y')\n",
    "year_columns = [col for col in df.columns if col.startswith('Y')]\n",
    "columns_to_compare = ['Element Code'] + year_columns\n",
    "\n",
    "# Step 2: Calculate the correlation between 'Element Code' and each year's column\n",
    "correlations = {}\n",
    "for year_col in year_columns:\n",
    "    correlation = df['Element Code'].corr(df[year_col])\n",
    "    correlations[year_col] = correlation\n",
    "\n",
    "# Step 3: Find the year with the least correlation\n",
    "min_correlation_year = min(correlations, key=correlations.get)\n",
    "\n",
    "# Print the year with the least correlation and its correlation value\n",
    "print(\"Year with the least correlation with 'Element Code':\", min_correlation_year)\n",
    "print(\"Correlation value:\", correlations[min_correlation_year])\n"
   ]
  },
  {
   "cell_type": "markdown",
   "id": "55f206e6",
   "metadata": {},
   "source": [
    "Question 11\n",
    "A pandas Dataframe with dimensions (100,3) has how many features and observations?"
   ]
  },
  {
   "cell_type": "markdown",
   "id": "05d64bc8",
   "metadata": {},
   "source": [
    "Question 12.\n",
    "Select columns ‘Y2017’ and ‘Area’, Perform a groupby operation on ‘Area’.  Which of these Areas had the 7th lowest sum in 2017?"
   ]
  },
  {
   "cell_type": "code",
   "execution_count": 32,
   "id": "84edf577",
   "metadata": {},
   "outputs": [
    {
     "name": "stdout",
     "output_type": "stream",
     "text": [
      "Area with the 7th lowest sum in 2017: Guinea-Bissau\n"
     ]
    }
   ],
   "source": [
    "# Step 1: Select columns 'Y2017' and 'Area'\n",
    "df_subset = df[['Area', 'Y2017']]\n",
    "\n",
    "# Step 2: Perform a groupby operation on 'Area' and calculate the sum for each area in 2017\n",
    "grouped = df_subset.groupby('Area')['Y2017'].sum().reset_index()\n",
    "\n",
    "# Step 3: Sort the grouped DataFrame by the sum in ascending order\n",
    "sorted_grouped = grouped.sort_values(by='Y2017', ascending=True)\n",
    "\n",
    "# Step 4: Get the area with the 7th lowest sum in 2017\n",
    "seventh_lowest_area = sorted_grouped.iloc[6]['Area']\n",
    "\n",
    "# Print the result\n",
    "print(\"Area with the 7th lowest sum in 2017:\", seventh_lowest_area)\n"
   ]
  },
  {
   "cell_type": "markdown",
   "id": "a92f6fc9",
   "metadata": {},
   "source": [
    "Question 13.\n",
    "Given the following python code, what would the output of the code give?\n",
    "\n",
    "my_tuppy = (1,2,5,8)\n",
    "\n",
    "my_tuppy[2] = 6"
   ]
  },
  {
   "cell_type": "code",
   "execution_count": 33,
   "id": "b69d6e28",
   "metadata": {},
   "outputs": [
    {
     "ename": "TypeError",
     "evalue": "'tuple' object does not support item assignment",
     "output_type": "error",
     "traceback": [
      "\u001b[1;31m---------------------------------------------------------------------------\u001b[0m",
      "\u001b[1;31mTypeError\u001b[0m                                 Traceback (most recent call last)",
      "\u001b[1;32m~\\AppData\\Local\\Temp\\ipykernel_19848\\3917941094.py\u001b[0m in \u001b[0;36m<module>\u001b[1;34m\u001b[0m\n\u001b[0;32m      1\u001b[0m \u001b[0mmy_tuppy\u001b[0m \u001b[1;33m=\u001b[0m \u001b[1;33m(\u001b[0m\u001b[1;36m1\u001b[0m\u001b[1;33m,\u001b[0m\u001b[1;36m2\u001b[0m\u001b[1;33m,\u001b[0m\u001b[1;36m5\u001b[0m\u001b[1;33m,\u001b[0m\u001b[1;36m8\u001b[0m\u001b[1;33m)\u001b[0m\u001b[1;33m\u001b[0m\u001b[1;33m\u001b[0m\u001b[0m\n\u001b[0;32m      2\u001b[0m \u001b[1;33m\u001b[0m\u001b[0m\n\u001b[1;32m----> 3\u001b[1;33m \u001b[0mmy_tuppy\u001b[0m\u001b[1;33m[\u001b[0m\u001b[1;36m2\u001b[0m\u001b[1;33m]\u001b[0m \u001b[1;33m=\u001b[0m \u001b[1;36m6\u001b[0m\u001b[1;33m\u001b[0m\u001b[1;33m\u001b[0m\u001b[0m\n\u001b[0m",
      "\u001b[1;31mTypeError\u001b[0m: 'tuple' object does not support item assignment"
     ]
    }
   ],
   "source": [
    "my_tuppy = (1,2,5,8)\n",
    "\n",
    "my_tuppy[2] = 6"
   ]
  },
  {
   "cell_type": "markdown",
   "id": "253f385f",
   "metadata": {},
   "source": [
    "Question 14\n",
    "Perform a groupby operation on ‘Element’.  What is the total number of the sum of Processing in 2017?"
   ]
  },
  {
   "cell_type": "code",
   "execution_count": 34,
   "id": "00012716",
   "metadata": {},
   "outputs": [
    {
     "name": "stdout",
     "output_type": "stream",
     "text": [
      "Total sum of 'Processing' in 2017: 292836.0\n"
     ]
    }
   ],
   "source": [
    "# Step 1: Select the columns 'Element' and 'Y2017'\n",
    "df_subset = df[['Element', 'Y2017']]\n",
    "\n",
    "# Step 2: Perform a groupby operation on 'Element' and calculate the sum for each element in 2017\n",
    "grouped = df_subset.groupby('Element')['Y2017'].sum().reset_index()\n",
    "\n",
    "# Step 3: Filter for the 'Processing' element and get its sum in 2017\n",
    "processing_sum_2017 = grouped[grouped['Element'] == 'Processing']['Y2017'].values[0]\n",
    "\n",
    "# Print the result\n",
    "print(\"Total sum of 'Processing' in 2017:\", processing_sum_2017)"
   ]
  },
  {
   "cell_type": "markdown",
   "id": "691fd139",
   "metadata": {},
   "source": [
    "Question 15\n",
    "Consider the following list of tuples:\n",
    "\n",
    "y = [(2, 4), (7, 8), (1, 5, 9)]\n",
    "\n",
    "How would you assign element 8 from the list to a variable x?"
   ]
  },
  {
   "cell_type": "code",
   "execution_count": 35,
   "id": "75753234",
   "metadata": {},
   "outputs": [
    {
     "name": "stdout",
     "output_type": "stream",
     "text": [
      "8\n"
     ]
    }
   ],
   "source": [
    "y = [(2, 4), (7, 8), (1, 5, 9)]\n",
    "\n",
    "# Assign element 8 to variable x\n",
    "x = y[1][1]\n",
    "\n",
    "# Print the value of x\n",
    "print(x)"
   ]
  },
  {
   "cell_type": "markdown",
   "id": "905ff5aa",
   "metadata": {},
   "source": [
    "Question 16.\n",
    "Which of these python data structures is unorderly?"
   ]
  },
  {
   "cell_type": "markdown",
   "id": "b9996e30",
   "metadata": {},
   "source": [
    "Question 17.\n",
    "How would you check for the number of rows and columns in a pandas DataFrame named df?"
   ]
  },
  {
   "cell_type": "code",
   "execution_count": 36,
   "id": "dc998f82",
   "metadata": {},
   "outputs": [
    {
     "name": "stdout",
     "output_type": "stream",
     "text": [
      "Number of rows: 60943\n",
      "Number of columns: 12\n"
     ]
    }
   ],
   "source": [
    "# Get the number of rows and columns\n",
    "num_rows, num_columns = df.shape\n",
    "\n",
    "# Print the results\n",
    "print(\"Number of rows:\", num_rows)\n",
    "print(\"Number of columns:\", num_columns)\n"
   ]
  },
  {
   "cell_type": "markdown",
   "id": "9fcb4e93",
   "metadata": {},
   "source": [
    "Question 18\n",
    "Perform a groupby operation on ‘Element’.  What year has the highest sum of Stock Variation?"
   ]
  },
  {
   "cell_type": "code",
   "execution_count": 38,
   "id": "d658b966",
   "metadata": {},
   "outputs": [
    {
     "name": "stdout",
     "output_type": "stream",
     "text": [
      "Year with the highest sum of 'Stock Variation': Y2018\n"
     ]
    }
   ],
   "source": [
    "import pandas as pd\n",
    "\n",
    "# Assuming df is your DataFrame\n",
    "\n",
    "# Step 1: Select the columns 'Element' and all year columns (assuming they start with 'Y')\n",
    "year_columns = [col for col in df.columns if col.startswith('Y')]\n",
    "columns_to_groupby = ['Element'] + year_columns\n",
    "\n",
    "# Step 2: Create a subset of the DataFrame with the selected columns\n",
    "df_subset = df[columns_to_groupby]\n",
    "\n",
    "# Step 3: Perform a groupby operation on 'Element' and calculate the sum for each element in each year\n",
    "grouped = df_subset.groupby('Element')[year_columns].sum()\n",
    "\n",
    "# Step 4: Find the year with the highest sum of 'Stock Variation' across all elements\n",
    "year_with_highest_stock_variation = grouped.sum(axis=0).idxmax()\n",
    "\n",
    "# Print the result\n",
    "print(\"Year with the highest sum of 'Stock Variation':\", year_with_highest_stock_variation)\n"
   ]
  },
  {
   "cell_type": "markdown",
   "id": "d13a858e",
   "metadata": {},
   "source": [
    "Question 20\n",
    "Given the following numpy array \n",
    "\n",
    "array  = ([[94, 89, 63],\n",
    "\n",
    "             [93, 92, 48],\n",
    "\n",
    "             [92, 94, 56]])\n",
    "\n",
    "How would you select  the elements in bold and italics from the array?"
   ]
  },
  {
   "cell_type": "code",
   "execution_count": 47,
   "id": "9534cd12",
   "metadata": {},
   "outputs": [
    {
     "name": "stdout",
     "output_type": "stream",
     "text": [
      "(array([[89, 63]]), array([[89, 63],\n",
      "       [92, 48]]))\n"
     ]
    }
   ],
   "source": [
    "# Create the numpy array\n",
    "array = np.array([[94, 89, 63],\n",
    "                  [93, 92, 48],\n",
    "                  [92, 94, 56]])\n",
    "\n",
    "# Select the elements in bold and italics\n",
    "selected_elements =array[ : 1, 1 :] ,array[ : 2, 1 : ] \n",
    "\n",
    "# Print the selected elements\n",
    "print(selected_elements)\n"
   ]
  },
  {
   "cell_type": "code",
   "execution_count": null,
   "id": "27d74a31",
   "metadata": {},
   "outputs": [],
   "source": []
  }
 ],
 "metadata": {
  "kernelspec": {
   "display_name": "Python 3 (ipykernel)",
   "language": "python",
   "name": "python3"
  },
  "language_info": {
   "codemirror_mode": {
    "name": "ipython",
    "version": 3
   },
   "file_extension": ".py",
   "mimetype": "text/x-python",
   "name": "python",
   "nbconvert_exporter": "python",
   "pygments_lexer": "ipython3",
   "version": "3.9.13"
  }
 },
 "nbformat": 4,
 "nbformat_minor": 5
}
